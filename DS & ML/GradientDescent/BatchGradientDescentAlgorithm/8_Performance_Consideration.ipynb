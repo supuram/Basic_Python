{
 "cells": [
  {
   "cell_type": "code",
   "execution_count": 3,
   "metadata": {},
   "outputs": [],
   "source": [
    "import matplotlib.pyplot as plt\n",
    "import numpy as np\n",
    "from matplotlib import cm\n",
    "import math"
   ]
  },
  {
   "cell_type": "markdown",
   "metadata": {},
   "source": [
    "## $$\\frac{\\partial f}{\\partial x} = \\frac{2x \\ln(3) \\cdot 3^{-x^2-y^2}}{(3^{-x^2-y^2}+1)^2}$$\n",
    "## $$\\frac{\\partial f}{\\partial y} = \\frac{2y \\ln(3) \\cdot 3^{-x^2-y^2}}{(3^{-x^2-y^2}+1)^2}$$"
   ]
  },
  {
   "cell_type": "code",
   "execution_count": 4,
   "metadata": {},
   "outputs": [],
   "source": [
    "def f(x, y):\n",
    "    r = 3 ** (-x ** 2 - y ** 2)\n",
    "    return 1/(r + 1)"
   ]
  },
  {
   "cell_type": "code",
   "execution_count": 5,
   "metadata": {},
   "outputs": [],
   "source": [
    "def fpx(x, y):\n",
    "    r = 3 ** (-x ** 2 - y ** 2)\n",
    "    return 2*x*math.log(3)*r/(r+1)**2\n",
    "\n",
    "def fpy(x, y):\n",
    "    r = 3 ** (-x ** 2 - y ** 2)\n",
    "    return 2*y*math.log(3)*r/(r+1)**2"
   ]
  },
  {
   "cell_type": "code",
   "execution_count": 6,
   "metadata": {},
   "outputs": [
    {
     "data": {
      "text/plain": [
       "0.036808971619750504"
      ]
     },
     "execution_count": 6,
     "metadata": {},
     "output_type": "execute_result"
    }
   ],
   "source": [
    "fpx(1.8, 1.0)"
   ]
  },
  {
   "cell_type": "markdown",
   "metadata": {},
   "source": [
    "## Gradient Descent with Python instead of sympy"
   ]
  },
  {
   "cell_type": "code",
   "execution_count": 7,
   "metadata": {},
   "outputs": [
    {
     "name": "stdout",
     "output_type": "stream",
     "text": [
      "Values in gradient array  [2.01013038e-11 1.11673910e-11]\n",
      "Minimum occurs at x at value of  3.458385998858304e-11\n",
      "Minimum occurs at y at value of  1.9213255549212797e-11\n",
      "The cost is  0.5\n"
     ]
    }
   ],
   "source": [
    "multiplier = 0.1\n",
    "max_iterations = 500\n",
    "params = np.array([1.8, 1.0]) #initial guess\n",
    "\n",
    "for n in range(max_iterations):\n",
    "    gradient_x = fpx(params[0], params[1])\n",
    "    gradient_y = fpy(params[0], params[1])\n",
    "    gradients = np.array([gradient_x, gradient_y])\n",
    "    params = params - multiplier * gradients\n",
    "print('Values in gradient array ',gradients)\n",
    "print('Minimum occurs at x at value of ', params[0])\n",
    "print('Minimum occurs at y at value of ', params[1])\n",
    "print('The cost is ', f(params[0], params[1]))"
   ]
  },
  {
   "cell_type": "markdown",
   "metadata": {},
   "source": [
    "## Graphing 3D Gradient Descent and nD numpy arrays"
   ]
  },
  {
   "cell_type": "code",
   "execution_count": null,
   "metadata": {},
   "outputs": [],
   "source": [
    "multiplier = 0.1\n",
    "max_iterations = 500\n",
    "params = np.array([1.8, 1.0]) #initial guess\n",
    "values_array = params\n",
    "\n",
    "for n in range(max_iterations):\n",
    "    gradient_x = fpx(params[0], params[1])\n",
    "    gradient_y = fpy(params[0], params[1])\n",
    "    gradients = np.array([gradient_x, gradient_y])\n",
    "    params = params - multiplier * gradients\n",
    "print('Values in gradient array ',gradients)\n",
    "print('Minimum occurs at x at value of ', params[0])\n",
    "print('Minimum occurs at y at value of ', params[1])\n",
    "print('The cost is ', f(params[0], params[1]))"
   ]
  }
 ],
 "metadata": {
  "kernelspec": {
   "display_name": "base",
   "language": "python",
   "name": "python3"
  },
  "language_info": {
   "codemirror_mode": {
    "name": "ipython",
    "version": 3
   },
   "file_extension": ".py",
   "mimetype": "text/x-python",
   "name": "python",
   "nbconvert_exporter": "python",
   "pygments_lexer": "ipython3",
   "version": "3.10.9"
  },
  "orig_nbformat": 4
 },
 "nbformat": 4,
 "nbformat_minor": 2
}
