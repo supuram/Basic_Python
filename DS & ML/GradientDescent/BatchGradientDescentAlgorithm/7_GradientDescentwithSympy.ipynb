{
 "cells": [
  {
   "cell_type": "code",
   "execution_count": 3,
   "metadata": {},
   "outputs": [],
   "source": [
    "import matplotlib.pyplot as plt\n",
    "import numpy as np\n",
    "from sympy import symbols, diff\n",
    "from matplotlib import cm"
   ]
  },
  {
   "cell_type": "code",
   "execution_count": 4,
   "metadata": {},
   "outputs": [
    {
     "data": {
      "text/latex": [
       "$\\displaystyle \\frac{1}{3^{- x^{2} - y^{2}} + 1}$"
      ],
      "text/plain": [
       "1/(3**(-x**2 - y**2) + 1)"
      ]
     },
     "execution_count": 4,
     "metadata": {},
     "output_type": "execute_result"
    }
   ],
   "source": [
    "def f(x, y):\n",
    "    r = 3 ** (-x ** 2 - y ** 2)\n",
    "    return 1/(r + 1)\n",
    "\n",
    "a, b = symbols('x, y')\n",
    "f(a, b)"
   ]
  },
  {
   "cell_type": "markdown",
   "metadata": {},
   "source": [
    "## Gradient Descent with SymPy"
   ]
  },
  {
   "cell_type": "code",
   "execution_count": 9,
   "metadata": {},
   "outputs": [
    {
     "name": "stdout",
     "output_type": "stream",
     "text": [
      "Values in gradient array  [2.01013037525579e-11 1.11673909736433e-11]\n",
      "Minimum occurs at x at value of  3.45838599885832e-11\n",
      "Minimum occurs at y at value of  1.92132555492129e-11\n",
      "The cost is  0.500000000000000\n"
     ]
    }
   ],
   "source": [
    "multiplier = 0.1\n",
    "max_iterations = 500\n",
    "params = np.array([1.8, 1.0]) #initial guess\n",
    "\n",
    "for n in range(max_iterations):\n",
    "    gradient_x = diff(f(a, b), a).evalf(subs={a:params[0], b:params[1]})\n",
    "    gradient_y = diff(f(a, b), b).evalf(subs={a:params[0], b:params[1]})\n",
    "    gradients = np.array([gradient_x, gradient_y])\n",
    "    params = params - multiplier * gradients\n",
    "print('Values in gradient array ',gradients)\n",
    "print('Minimum occurs at x at value of ', params[0])\n",
    "print('Minimum occurs at y at value of ', params[1])\n",
    "print('The cost is ', f(params[0], params[1]))"
   ]
  }
 ],
 "metadata": {
  "kernelspec": {
   "display_name": "base",
   "language": "python",
   "name": "python3"
  },
  "language_info": {
   "codemirror_mode": {
    "name": "ipython",
    "version": 3
   },
   "file_extension": ".py",
   "mimetype": "text/x-python",
   "name": "python",
   "nbconvert_exporter": "python",
   "pygments_lexer": "ipython3",
   "version": "3.10.9"
  },
  "orig_nbformat": 4
 },
 "nbformat": 4,
 "nbformat_minor": 2
}
