{
 "cells": [
  {
   "cell_type": "markdown",
   "metadata": {},
   "source": [
    "## Mean Squared Error = $$\\frac{1}{n} \\sum_{i=1}^{n} \\left( y^{(i)} - h_{\\theta}x^{(i)} \\right)^2$$"
   ]
  },
  {
   "cell_type": "markdown",
   "metadata": {},
   "source": [
    "## Mean Squared Error - A Cost Function for Regression Problems"
   ]
  },
  {
   "cell_type": "code",
   "execution_count": 26,
   "metadata": {},
   "outputs": [],
   "source": [
    "import matplotlib.pyplot as plt\n",
    "import numpy as np\n",
    "from matplotlib import cm\n",
    "from sklearn.linear_model import LinearRegression\n",
    "from sklearn.metrics import mean_squared_error"
   ]
  },
  {
   "cell_type": "code",
   "execution_count": 27,
   "metadata": {},
   "outputs": [
    {
     "name": "stdout",
     "output_type": "stream",
     "text": [
      "(7, 1)\n",
      "(7, 1)\n",
      "Intercept also known as theta0 =  1.1881337161607886\n",
      "Slope also known as theta1 =  1.1373666940114844\n"
     ]
    }
   ],
   "source": [
    "x_5 = np.array([[0.1, 1.2, 2.4, 3.2, 4.5, 5.7, 6.8]]).transpose()\n",
    "y_5 = np.array([1.6, 2.5, 3.9, 4.2, 5.9, 9.1, 8.3]).reshape(7,1)\n",
    "print(x_5.shape)\n",
    "print(y_5.shape)\n",
    "\n",
    "regr = LinearRegression()\n",
    "regr.fit(x_5, y_5)\n",
    "print('Intercept also known as theta0 = ', regr.intercept_[0])\n",
    "print('Slope also known as theta1 = ', regr.coef_[0][0])"
   ]
  },
  {
   "cell_type": "code",
   "execution_count": 28,
   "metadata": {},
   "outputs": [
    {
     "data": {
      "image/png": "[encoded data removed]",
      "text/plain": [
       "<Figure size 640x480 with 1 Axes>"
      ]
     },
     "metadata": {},
     "output_type": "display_data"
    }
   ],
   "source": [
    "plt.scatter(x_5, y_5)\n",
    "plt.plot(x_5, regr.predict(x_5), color='orange')\n",
    "plt.show()"
   ]
  },
  {
   "cell_type": "code",
   "execution_count": 29,
   "metadata": {},
   "outputs": [
    {
     "name": "stdout",
     "output_type": "stream",
     "text": [
      "Estimated values = \n",
      " [[1.30187039]\n",
      " [2.55297375]\n",
      " [3.91781378]\n",
      " [4.82770714]\n",
      " [6.30628384]\n",
      " [7.67112387]\n",
      " [8.92222724]]\n",
      "Actual values = \n",
      " [[1.6]\n",
      " [2.5]\n",
      " [3.9]\n",
      " [4.2]\n",
      " [5.9]\n",
      " [9.1]\n",
      " [8.3]]\n"
     ]
    }
   ],
   "source": [
    "y_hat = 1.1881337161607886 + 1.1373666940114844 * x_5\n",
    "print('Estimated values = \\n', y_hat)\n",
    "print('Actual values = \\n', y_5)"
   ]
  },
  {
   "cell_type": "code",
   "execution_count": 32,
   "metadata": {},
   "outputs": [
    {
     "name": "stdout",
     "output_type": "stream",
     "text": [
      "MSE regression manually =  [0.43999162]\n",
      "MSE regression from scikit learn =  0.4399916207664357\n",
      "MSE regression from scikit learn =  0.4399916207664357\n"
     ]
    }
   ],
   "source": [
    "# Manually Calculated MSE\n",
    "def mse(y, y_hat):\n",
    "    mse_calc = (1/7) * sum((y - y_hat)**2)\n",
    "    return mse_calc\n",
    "print('MSE regression manually = ', mse(y_5, y_hat))\n",
    "print('MSE regression from scikit learn = ', mean_squared_error(y_5, y_hat))\n",
    "print('MSE regression from scikit learn = ', mean_squared_error(y_5, regr.predict(x_5)))"
   ]
  },
  {
   "cell_type": "markdown",
   "metadata": {},
   "source": [
    "## 3D Plot for the MSE Cost Function"
   ]
  },
  {
   "cell_type": "code",
   "execution_count": null,
   "metadata": {},
   "outputs": [],
   "source": []
  }
 ],
 "metadata": {
  "kernelspec": {
   "display_name": "base",
   "language": "python",
   "name": "python3"
  },
  "language_info": {
   "codemirror_mode": {
    "name": "ipython",
    "version": 3
   },
   "file_extension": ".py",
   "mimetype": "text/x-python",
   "name": "python",
   "nbconvert_exporter": "python",
   "pygments_lexer": "ipython3",
   "version": "3.10.9"
  },
  "orig_nbformat": 4
 },
 "nbformat": 4,
 "nbformat_minor": 2
}
