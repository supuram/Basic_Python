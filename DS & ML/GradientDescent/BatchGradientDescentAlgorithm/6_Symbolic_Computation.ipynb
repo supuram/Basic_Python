{
 "cells": [
  {
   "cell_type": "markdown",
   "metadata": {},
   "source": [
    "## Partial Derivatives and Symbolic Computation"
   ]
  },
  {
   "cell_type": "code",
   "execution_count": 18,
   "metadata": {},
   "outputs": [],
   "source": [
    "import matplotlib.pyplot as plt\n",
    "from sympy import symbols, diff"
   ]
  },
  {
   "cell_type": "code",
   "execution_count": 19,
   "metadata": {},
   "outputs": [
    {
     "data": {
      "text/latex": [
       "$\\displaystyle \\frac{1}{3^{- x^{2} - y^{2}} + 1}$"
      ],
      "text/plain": [
       "1/(3**(-x**2 - y**2) + 1)"
      ]
     },
     "execution_count": 19,
     "metadata": {},
     "output_type": "execute_result"
    }
   ],
   "source": [
    "def f(x, y):\n",
    "    r = 3 ** (-x ** 2 - y ** 2)\n",
    "    return 1/(r + 1)\n",
    "\n",
    "a, b = symbols('x, y')\n",
    "f(a, b) #Our Cost Function"
   ]
  },
  {
   "cell_type": "code",
   "execution_count": 20,
   "metadata": {},
   "outputs": [
    {
     "data": {
      "text/latex": [
       "$\\displaystyle \\frac{2 \\cdot 3^{- x^{2} - y^{2}} x \\log{\\left(3 \\right)}}{\\left(3^{- x^{2} - y^{2}} + 1\\right)^{2}}$"
      ],
      "text/plain": [
       "2*3**(-x**2 - y**2)*x*log(3)/(3**(-x**2 - y**2) + 1)**2"
      ]
     },
     "execution_count": 20,
     "metadata": {},
     "output_type": "execute_result"
    }
   ],
   "source": [
    "diff(f(a, b), a) #w.r.t a"
   ]
  },
  {
   "cell_type": "code",
   "execution_count": 21,
   "metadata": {},
   "outputs": [
    {
     "data": {
      "text/latex": [
       "$\\displaystyle 0.990604794032582$"
      ],
      "text/plain": [
       "0.990604794032582"
      ]
     },
     "execution_count": 21,
     "metadata": {},
     "output_type": "execute_result"
    }
   ],
   "source": [
    "f(a, b).evalf(subs={a:1.8, b:1.0})"
   ]
  },
  {
   "cell_type": "code",
   "execution_count": 22,
   "metadata": {},
   "outputs": [
    {
     "name": "stdout",
     "output_type": "stream",
     "text": [
      "0.0368089716197505\n"
     ]
    }
   ],
   "source": [
    "diffa = diff(f(a, b), a)\n",
    "valueAtSlope = diffa.evalf(subs={a:1.8, b:1.0})\n",
    "print(valueAtSlope)"
   ]
  }
 ],
 "metadata": {
  "kernelspec": {
   "display_name": "base",
   "language": "python",
   "name": "python3"
  },
  "language_info": {
   "codemirror_mode": {
    "name": "ipython",
    "version": 3
   },
   "file_extension": ".py",
   "mimetype": "text/x-python",
   "name": "python",
   "nbconvert_exporter": "python",
   "pygments_lexer": "ipython3",
   "version": "3.10.9"
  },
  "orig_nbformat": 4
 },
 "nbformat": 4,
 "nbformat_minor": 2
}
